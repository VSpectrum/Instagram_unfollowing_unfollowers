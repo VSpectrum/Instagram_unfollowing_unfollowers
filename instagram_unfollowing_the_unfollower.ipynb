{
 "cells": [
  {
   "cell_type": "markdown",
   "metadata": {},
   "source": [
    "## Logging into Instagram:"
   ]
  },
  {
   "cell_type": "code",
   "execution_count": 17,
   "metadata": {},
   "outputs": [],
   "source": [
    "import requests, re, json, csv\n",
    "from urllib import parse\n",
    "from bs4 import BeautifulSoup\n",
    "from config import username, password\n",
    "\n",
    "BASE_URL = 'https://www.instagram.com/accounts/login/'\n",
    "LOGIN_URL = BASE_URL + 'ajax/'\n",
    "\n",
    "session = requests.Session()\n",
    "session.headers = {'user-agent': 'Mozilla/5.0 (Macintosh; Intel Mac OS X 10_14_6) AppleWebKit/537.36 (KHTML, like Gecko) Chrome/80.0.3987.163 Safari/537.36'}\n",
    "session.headers.update({'referer': BASE_URL})    \n",
    "\n",
    "req = session.get(BASE_URL)    \n",
    "soup = BeautifulSoup(req.content, 'html.parser')    \n",
    "body = soup.find('body')\n",
    "pattern = re.compile('window._sharedData')\n",
    "script = body.find(\"script\", text=pattern)\n",
    "script = script.contents[0].replace('window._sharedData = ', '')[:-1]\n",
    "data = json.loads(script)\n",
    "csrf = data['config'].get('csrf_token')\n",
    "session.headers.update({'X-CSRFToken': csrf})\n",
    "\n",
    "login_info = {\n",
    "    'username': username,\n",
    "    'password': password,\n",
    "}\n",
    "resp = session.post('https://www.instagram.com/accounts/login/ajax/', data=login_info, allow_redirects=True)\n",
    "#login established\n"
   ]
  },
  {
   "cell_type": "markdown",
   "metadata": {},
   "source": [
    "## Loading Account's Followers into a set:"
   ]
  },
  {
   "cell_type": "code",
   "execution_count": 18,
   "metadata": {},
   "outputs": [
    {
     "name": "stdout",
     "output_type": "stream",
     "text": [
      "2991\n"
     ]
    }
   ],
   "source": [
    "\n",
    "GRAPHQL_API_URL = 'https://www.instagram.com/graphql/query/?'\n",
    "user_info = json.loads(resp.content)\n",
    "user_id = user_info['userId']\n",
    "\n",
    "account_follower_ids = set()\n",
    "\n",
    "#enumerate followers\n",
    "control = {\n",
    "    'query_hash':'c76146de99bb02f6415203be841dd25a', # magic value for Mark's following\n",
    "    'variables': f'{{\"id\":\"{user_id}\",\"include_reel\":true,\"fetch_mutual\":true,\"first\":50}}'\n",
    "}\n",
    "url_control = parse.urlencode(control)\n",
    "#get first 50\n",
    "graphql_resp = json.loads(session.get(GRAPHQL_API_URL + url_control).content)\n",
    "has_next_page = graphql_resp['data']['user']['edge_followed_by']['page_info']['has_next_page']\n",
    "user_nodes = graphql_resp['data']['user']['edge_followed_by']['edges']\n",
    "\n",
    "open(r'followers.csv', 'w').close()\n",
    "while True:\n",
    "    for node in user_nodes:\n",
    "        fields=[node['node']['username'],node['node']['full_name'],node['node']['id']]\n",
    "        with open(r'followers.csv', 'a') as f:\n",
    "            writer = csv.writer(f)\n",
    "            writer.writerow(fields)\n",
    "        account_follower_ids.add(node['node']['id'])\n",
    "    if not has_next_page:\n",
    "        break\n",
    "    end_cursor = graphql_resp['data']['user']['edge_followed_by']['page_info']['end_cursor']\n",
    "    control = {\n",
    "        'query_hash':'c76146de99bb02f6415203be841dd25a', # magic value for mark\n",
    "        'variables': f'{{\"id\":\"{user_id}\",\"include_reel\":true,\"fetch_mutual\":false,\"first\":50,\"after\":\"{end_cursor}\"}}'\n",
    "    }\n",
    "    url_control = parse.urlencode(control)\n",
    "    #get next 50\n",
    "    graphql_resp = json.loads(session.get(GRAPHQL_API_URL + url_control).content)\n",
    "    has_next_page = graphql_resp['data']['user']['edge_followed_by']['page_info']['has_next_page']\n",
    "    user_nodes = graphql_resp['data']['user']['edge_followed_by']['edges']\n",
    "    \n",
    "print(len(account_follower_ids))\n"
   ]
  },
  {
   "cell_type": "markdown",
   "metadata": {},
   "source": [
    "## Loading Users that the account is following into a set:"
   ]
  },
  {
   "cell_type": "code",
   "execution_count": 19,
   "metadata": {},
   "outputs": [
    {
     "name": "stdout",
     "output_type": "stream",
     "text": [
      "6065\n"
     ]
    }
   ],
   "source": [
    "GRAPHQL_API_URL = 'https://www.instagram.com/graphql/query/?'\n",
    "user_info = json.loads(resp.content)\n",
    "user_id = user_info['userId']\n",
    "\n",
    "account_following_ids = set()\n",
    "\n",
    "#enumerate following\n",
    "control = {\n",
    "    'query_hash':'d04b0a864b4b54837c0d870b0e77e076', # magic value for Mark's following\n",
    "    'variables': f'{{\"id\":\"{user_id}\",\"include_reel\":true,\"fetch_mutual\":true,\"first\":50}}'\n",
    "}\n",
    "url_control = parse.urlencode(control)\n",
    "#get first 50\n",
    "graphql_resp = json.loads(session.get(GRAPHQL_API_URL + url_control).content)\n",
    "has_next_page = graphql_resp['data']['user']['edge_follow']['page_info']['has_next_page']\n",
    "user_nodes = graphql_resp['data']['user']['edge_follow']['edges']\n",
    "\n",
    "open(r'following.csv', 'w').close()\n",
    "while True:\n",
    "    for node in user_nodes:\n",
    "        fields=[node['node']['username'],node['node']['full_name'],node['node']['id']]\n",
    "        with open(r'following.csv', 'a') as f:\n",
    "            writer = csv.writer(f)\n",
    "            writer.writerow(fields)\n",
    "        account_following_ids.add(node['node']['id'])\n",
    "    if not has_next_page:\n",
    "        break\n",
    "    end_cursor = graphql_resp['data']['user']['edge_follow']['page_info']['end_cursor']\n",
    "    control = {\n",
    "        'query_hash':'d04b0a864b4b54837c0d870b0e77e076', # magic value for mark\n",
    "        'variables': f'{{\"id\":\"{user_id}\",\"include_reel\":true,\"fetch_mutual\":false,\"first\":50,\"after\":\"{end_cursor}\"}}'\n",
    "    }\n",
    "    url_control = parse.urlencode(control)\n",
    "    #get next 50\n",
    "    graphql_resp = json.loads(session.get(GRAPHQL_API_URL + url_control).content)\n",
    "    has_next_page = graphql_resp['data']['user']['edge_follow']['page_info']['has_next_page']\n",
    "    user_nodes = graphql_resp['data']['user']['edge_follow']['edges']\n",
    "    \n",
    "print(len(account_following_ids))"
   ]
  },
  {
   "cell_type": "markdown",
   "metadata": {},
   "source": [
    "## Obtaining which accounts you are following, who are not following you"
   ]
  },
  {
   "cell_type": "code",
   "execution_count": 20,
   "metadata": {},
   "outputs": [
    {
     "name": "stdout",
     "output_type": "stream",
     "text": [
      "3514\n",
      "3514\n"
     ]
    }
   ],
   "source": [
    "following_unfollowers = account_following_ids - account_follower_ids\n",
    "print(len(following_unfollowers))\n",
    "\n",
    "following_data_dict = {}\n",
    "with open('following.csv', newline='') as f:\n",
    "    reader = csv.reader(f)\n",
    "    for row in reader:\n",
    "        following_data_dict[row[2]] = row[0]\n",
    "\n",
    "usernames_of_unfollowers = [following_data_dict[id] for id in list(following_unfollowers)]\n",
    "print(len(usernames_of_unfollowers))\n"
   ]
  },
  {
   "cell_type": "markdown",
   "metadata": {},
   "source": [
    "## Unfollowing them at a pace fast enough to not get banned"
   ]
  },
  {
   "cell_type": "code",
   "execution_count": 21,
   "metadata": {
    "scrolled": true
   },
   "outputs": [
    {
     "ename": "JSONDecodeError",
     "evalue": "Expecting value: line 2 column 1 (char 1)",
     "output_type": "error",
     "traceback": [
      "\u001b[0;31m---------------------------------------------------------------------------\u001b[0m",
      "\u001b[0;31mJSONDecodeError\u001b[0m                           Traceback (most recent call last)",
      "\u001b[0;32m<ipython-input-21-c8fa090f66a8>\u001b[0m in \u001b[0;36m<module>\u001b[0;34m\u001b[0m\n\u001b[1;32m     13\u001b[0m     \u001b[0mscript\u001b[0m \u001b[0;34m=\u001b[0m \u001b[0mbody\u001b[0m\u001b[0;34m.\u001b[0m\u001b[0mfind\u001b[0m\u001b[0;34m(\u001b[0m\u001b[0;34m\"script\"\u001b[0m\u001b[0;34m,\u001b[0m \u001b[0mtext\u001b[0m\u001b[0;34m=\u001b[0m\u001b[0mpattern\u001b[0m\u001b[0;34m)\u001b[0m\u001b[0;34m\u001b[0m\u001b[0;34m\u001b[0m\u001b[0m\n\u001b[1;32m     14\u001b[0m     \u001b[0mscript\u001b[0m \u001b[0;34m=\u001b[0m \u001b[0mscript\u001b[0m\u001b[0;34m.\u001b[0m\u001b[0mcontents\u001b[0m\u001b[0;34m[\u001b[0m\u001b[0;36m0\u001b[0m\u001b[0;34m]\u001b[0m\u001b[0;34m.\u001b[0m\u001b[0mreplace\u001b[0m\u001b[0;34m(\u001b[0m\u001b[0;34m'window._sharedData = '\u001b[0m\u001b[0;34m,\u001b[0m \u001b[0;34m''\u001b[0m\u001b[0;34m)\u001b[0m\u001b[0;34m[\u001b[0m\u001b[0;34m:\u001b[0m\u001b[0;34m-\u001b[0m\u001b[0;36m1\u001b[0m\u001b[0;34m]\u001b[0m\u001b[0;34m\u001b[0m\u001b[0;34m\u001b[0m\u001b[0m\n\u001b[0;32m---> 15\u001b[0;31m     \u001b[0mdata\u001b[0m \u001b[0;34m=\u001b[0m \u001b[0mjson\u001b[0m\u001b[0;34m.\u001b[0m\u001b[0mloads\u001b[0m\u001b[0;34m(\u001b[0m\u001b[0mscript\u001b[0m\u001b[0;34m)\u001b[0m\u001b[0;34m\u001b[0m\u001b[0;34m\u001b[0m\u001b[0m\n\u001b[0m\u001b[1;32m     16\u001b[0m     \u001b[0mcsrf\u001b[0m \u001b[0;34m=\u001b[0m \u001b[0mdata\u001b[0m\u001b[0;34m[\u001b[0m\u001b[0;34m'config'\u001b[0m\u001b[0;34m]\u001b[0m\u001b[0;34m.\u001b[0m\u001b[0mget\u001b[0m\u001b[0;34m(\u001b[0m\u001b[0;34m'csrf_token'\u001b[0m\u001b[0;34m)\u001b[0m\u001b[0;34m\u001b[0m\u001b[0;34m\u001b[0m\u001b[0m\n\u001b[1;32m     17\u001b[0m     \u001b[0msession\u001b[0m\u001b[0;34m.\u001b[0m\u001b[0mheaders\u001b[0m\u001b[0;34m.\u001b[0m\u001b[0mupdate\u001b[0m\u001b[0;34m(\u001b[0m\u001b[0;34m{\u001b[0m\u001b[0;34m'X-CSRFToken'\u001b[0m\u001b[0;34m:\u001b[0m \u001b[0mcsrf\u001b[0m\u001b[0;34m}\u001b[0m\u001b[0;34m)\u001b[0m\u001b[0;34m\u001b[0m\u001b[0;34m\u001b[0m\u001b[0m\n",
      "\u001b[0;32m~/.pyenv/versions/3.8.2/lib/python3.8/json/__init__.py\u001b[0m in \u001b[0;36mloads\u001b[0;34m(s, cls, object_hook, parse_float, parse_int, parse_constant, object_pairs_hook, **kw)\u001b[0m\n\u001b[1;32m    355\u001b[0m             \u001b[0mparse_int\u001b[0m \u001b[0;32mis\u001b[0m \u001b[0;32mNone\u001b[0m \u001b[0;32mand\u001b[0m \u001b[0mparse_float\u001b[0m \u001b[0;32mis\u001b[0m \u001b[0;32mNone\u001b[0m \u001b[0;32mand\u001b[0m\u001b[0;34m\u001b[0m\u001b[0;34m\u001b[0m\u001b[0m\n\u001b[1;32m    356\u001b[0m             parse_constant is None and object_pairs_hook is None and not kw):\n\u001b[0;32m--> 357\u001b[0;31m         \u001b[0;32mreturn\u001b[0m \u001b[0m_default_decoder\u001b[0m\u001b[0;34m.\u001b[0m\u001b[0mdecode\u001b[0m\u001b[0;34m(\u001b[0m\u001b[0ms\u001b[0m\u001b[0;34m)\u001b[0m\u001b[0;34m\u001b[0m\u001b[0;34m\u001b[0m\u001b[0m\n\u001b[0m\u001b[1;32m    358\u001b[0m     \u001b[0;32mif\u001b[0m \u001b[0mcls\u001b[0m \u001b[0;32mis\u001b[0m \u001b[0;32mNone\u001b[0m\u001b[0;34m:\u001b[0m\u001b[0;34m\u001b[0m\u001b[0;34m\u001b[0m\u001b[0m\n\u001b[1;32m    359\u001b[0m         \u001b[0mcls\u001b[0m \u001b[0;34m=\u001b[0m \u001b[0mJSONDecoder\u001b[0m\u001b[0;34m\u001b[0m\u001b[0;34m\u001b[0m\u001b[0m\n",
      "\u001b[0;32m~/.pyenv/versions/3.8.2/lib/python3.8/json/decoder.py\u001b[0m in \u001b[0;36mdecode\u001b[0;34m(self, s, _w)\u001b[0m\n\u001b[1;32m    335\u001b[0m \u001b[0;34m\u001b[0m\u001b[0m\n\u001b[1;32m    336\u001b[0m         \"\"\"\n\u001b[0;32m--> 337\u001b[0;31m         \u001b[0mobj\u001b[0m\u001b[0;34m,\u001b[0m \u001b[0mend\u001b[0m \u001b[0;34m=\u001b[0m \u001b[0mself\u001b[0m\u001b[0;34m.\u001b[0m\u001b[0mraw_decode\u001b[0m\u001b[0;34m(\u001b[0m\u001b[0ms\u001b[0m\u001b[0;34m,\u001b[0m \u001b[0midx\u001b[0m\u001b[0;34m=\u001b[0m\u001b[0m_w\u001b[0m\u001b[0;34m(\u001b[0m\u001b[0ms\u001b[0m\u001b[0;34m,\u001b[0m \u001b[0;36m0\u001b[0m\u001b[0;34m)\u001b[0m\u001b[0;34m.\u001b[0m\u001b[0mend\u001b[0m\u001b[0;34m(\u001b[0m\u001b[0;34m)\u001b[0m\u001b[0;34m)\u001b[0m\u001b[0;34m\u001b[0m\u001b[0;34m\u001b[0m\u001b[0m\n\u001b[0m\u001b[1;32m    338\u001b[0m         \u001b[0mend\u001b[0m \u001b[0;34m=\u001b[0m \u001b[0m_w\u001b[0m\u001b[0;34m(\u001b[0m\u001b[0ms\u001b[0m\u001b[0;34m,\u001b[0m \u001b[0mend\u001b[0m\u001b[0;34m)\u001b[0m\u001b[0;34m.\u001b[0m\u001b[0mend\u001b[0m\u001b[0;34m(\u001b[0m\u001b[0;34m)\u001b[0m\u001b[0;34m\u001b[0m\u001b[0;34m\u001b[0m\u001b[0m\n\u001b[1;32m    339\u001b[0m         \u001b[0;32mif\u001b[0m \u001b[0mend\u001b[0m \u001b[0;34m!=\u001b[0m \u001b[0mlen\u001b[0m\u001b[0;34m(\u001b[0m\u001b[0ms\u001b[0m\u001b[0;34m)\u001b[0m\u001b[0;34m:\u001b[0m\u001b[0;34m\u001b[0m\u001b[0;34m\u001b[0m\u001b[0m\n",
      "\u001b[0;32m~/.pyenv/versions/3.8.2/lib/python3.8/json/decoder.py\u001b[0m in \u001b[0;36mraw_decode\u001b[0;34m(self, s, idx)\u001b[0m\n\u001b[1;32m    353\u001b[0m             \u001b[0mobj\u001b[0m\u001b[0;34m,\u001b[0m \u001b[0mend\u001b[0m \u001b[0;34m=\u001b[0m \u001b[0mself\u001b[0m\u001b[0;34m.\u001b[0m\u001b[0mscan_once\u001b[0m\u001b[0;34m(\u001b[0m\u001b[0ms\u001b[0m\u001b[0;34m,\u001b[0m \u001b[0midx\u001b[0m\u001b[0;34m)\u001b[0m\u001b[0;34m\u001b[0m\u001b[0;34m\u001b[0m\u001b[0m\n\u001b[1;32m    354\u001b[0m         \u001b[0;32mexcept\u001b[0m \u001b[0mStopIteration\u001b[0m \u001b[0;32mas\u001b[0m \u001b[0merr\u001b[0m\u001b[0;34m:\u001b[0m\u001b[0;34m\u001b[0m\u001b[0;34m\u001b[0m\u001b[0m\n\u001b[0;32m--> 355\u001b[0;31m             \u001b[0;32mraise\u001b[0m \u001b[0mJSONDecodeError\u001b[0m\u001b[0;34m(\u001b[0m\u001b[0;34m\"Expecting value\"\u001b[0m\u001b[0;34m,\u001b[0m \u001b[0ms\u001b[0m\u001b[0;34m,\u001b[0m \u001b[0merr\u001b[0m\u001b[0;34m.\u001b[0m\u001b[0mvalue\u001b[0m\u001b[0;34m)\u001b[0m \u001b[0;32mfrom\u001b[0m \u001b[0;32mNone\u001b[0m\u001b[0;34m\u001b[0m\u001b[0;34m\u001b[0m\u001b[0m\n\u001b[0m\u001b[1;32m    356\u001b[0m         \u001b[0;32mreturn\u001b[0m \u001b[0mobj\u001b[0m\u001b[0;34m,\u001b[0m \u001b[0mend\u001b[0m\u001b[0;34m\u001b[0m\u001b[0;34m\u001b[0m\u001b[0m\n",
      "\u001b[0;31mJSONDecodeError\u001b[0m: Expecting value: line 2 column 1 (char 1)"
     ]
    }
   ],
   "source": [
    "import time\n",
    "import random \n",
    "\n",
    "list_unfollowers = list(following_unfollowers)\n",
    "\n",
    "unfollow_url = 'https://www.instagram.com/web/friendships/{}/unfollow/'\n",
    "USER_BASE_URL = 'https://www.instagram.com/{}/'\n",
    "for uid in list_unfollowers:\n",
    "    req = session.get(USER_BASE_URL.format(following_data_dict[uid]))    \n",
    "    soup = BeautifulSoup(req.content, 'html.parser')    \n",
    "    body = soup.find('body')\n",
    "    pattern = re.compile('window._sharedData')\n",
    "    script = body.find(\"script\", text=pattern)\n",
    "    script = script.contents[0].replace('window._sharedData = ', '')[:-1]\n",
    "    data = json.loads(script)\n",
    "    csrf = data['config'].get('csrf_token')\n",
    "    session.headers.update({'X-CSRFToken': csrf})\n",
    "    session.headers.update({'referer': USER_BASE_URL.format(following_data_dict[uid])})  \n",
    "    print(following_data_dict[uid])\n",
    "    resp = session.post(unfollow_url.format(uid))\n",
    "    print(resp)\n",
    "    while resp.status_code != 200:\n",
    "        print('-----waiting on IG...-----')\n",
    "        time.sleep(60*4 + random.randint(1, 10))\n",
    "        resp = session.post(unfollow_url.format(uid))\n",
    "    time.sleep(60*4 + random.randint(1, 10))"
   ]
  },
  {
   "cell_type": "code",
   "execution_count": null,
   "metadata": {},
   "outputs": [],
   "source": []
  }
 ],
 "metadata": {
  "kernelspec": {
   "display_name": "Python 3",
   "language": "python",
   "name": "python3"
  },
  "language_info": {
   "codemirror_mode": {
    "name": "ipython",
    "version": 3
   },
   "file_extension": ".py",
   "mimetype": "text/x-python",
   "name": "python",
   "nbconvert_exporter": "python",
   "pygments_lexer": "ipython3",
   "version": "3.8.2"
  }
 },
 "nbformat": 4,
 "nbformat_minor": 4
}
